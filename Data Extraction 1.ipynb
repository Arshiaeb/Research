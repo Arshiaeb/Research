{
 "cells": [
  {
   "cell_type": "code",
   "execution_count": 31,
   "metadata": {},
   "outputs": [],
   "source": [
    "import numpy as np\n",
    "import pandas as pd\n",
    "import pickle\n",
    "import torch\n",
    "import matplotlib.pyplot as plt\n",
    "from torch.nn.functional import pad"
   ]
  },
  {
   "cell_type": "markdown",
   "metadata": {},
   "source": [
    "Test Data File Names: <br>\n",
    "'CMIP_ews_CMCC-CESM_Processed.pkl'  <br>\n",
    "'CMIP_ews_CSIRO-Mk3-6-0_Processed.pkl' <br>\n",
    "'CMIP_ews_FGOALS-g2_Processed.pkl' <br>\n",
    "'CMIP_ews_GFDL-ESM2M_Processed.pkl'"
   ]
  },
  {
   "cell_type": "code",
   "execution_count": 32,
   "metadata": {},
   "outputs": [],
   "source": [
    "#test_data_col=['CMIP_ews_CMCC-CESM_Processed.pkl','CMIP_ews_CSIRO-Mk3-6-0_Processed.pkl','CMIP_ews_FGOALS-g2_Processed.pkl','CMIP_ews_GFDL-ESM2M_Processed.pkl']"
   ]
  },
  {
   "cell_type": "code",
   "execution_count": null,
   "metadata": {},
   "outputs": [],
   "source": [
    "train_data_name = \"Train_Data_100\""
   ]
  },
  {
   "cell_type": "code",
   "execution_count": 34,
   "metadata": {},
   "outputs": [
    {
     "data": {
      "text/html": [
       "<div>\n",
       "<style scoped>\n",
       "    .dataframe tbody tr th:only-of-type {\n",
       "        vertical-align: middle;\n",
       "    }\n",
       "\n",
       "    .dataframe tbody tr th {\n",
       "        vertical-align: top;\n",
       "    }\n",
       "\n",
       "    .dataframe thead th {\n",
       "        text-align: right;\n",
       "    }\n",
       "</style>\n",
       "<table border=\"1\" class=\"dataframe\">\n",
       "  <thead>\n",
       "    <tr style=\"text-align: right;\">\n",
       "      <th></th>\n",
       "      <th>System</th>\n",
       "      <th>System_cg</th>\n",
       "      <th>System_ews</th>\n",
       "      <th>Magnetization</th>\n",
       "      <th>Heat_capacity</th>\n",
       "      <th>Tc</th>\n",
       "      <th>Tbounds</th>\n",
       "      <th>null</th>\n",
       "    </tr>\n",
       "  </thead>\n",
       "  <tbody>\n",
       "    <tr>\n",
       "      <th>0</th>\n",
       "      <td>[[[1.0, 1.0, 1.0, 1.0, 1.0, 1.0, 1.0, 1.0, 1.0...</td>\n",
       "      <td>[[[1.0, 0.9908571428571429, 0.9808897959183673...</td>\n",
       "      <td>[[0.0032392501442056534, -1.4633423495584055, ...</td>\n",
       "      <td>[0.9914739229024944, 0.9824036281179138, 0.979...</td>\n",
       "      <td>[0.6500765745883083, 0.7472017099776049, 0.782...</td>\n",
       "      <td>6.236788</td>\n",
       "      <td>[3.98854715806314, 6.23678752898753]</td>\n",
       "      <td>0</td>\n",
       "    </tr>\n",
       "    <tr>\n",
       "      <th>1</th>\n",
       "      <td>[[[1.0, 1.0, 1.0, 1.0, 1.0, 1.0, 1.0, 1.0, 1.0...</td>\n",
       "      <td>[[[1.0, 0.9656, 1.0, 1.0, 1.0, 1.0, 1.0, 1.0, ...</td>\n",
       "      <td>[[0.001980815989360143, -3.325040402232634, 12...</td>\n",
       "      <td>[0.9833333333333333, 0.9783333333333334, 0.976...</td>\n",
       "      <td>[0.2234746991307172, 0.29548352078793944, 0.34...</td>\n",
       "      <td>11.877845</td>\n",
       "      <td>[8.542947376439002, 5.123716451177343]</td>\n",
       "      <td>1</td>\n",
       "    </tr>\n",
       "    <tr>\n",
       "      <th>2</th>\n",
       "      <td>[[[1.0, 1.0, 1.0, 1.0, 1.0, 1.0, 1.0, 1.0, 1.0...</td>\n",
       "      <td>[[[1.0, 1.0, 1.0, 0.8943666666666665, 1.0, 0.9...</td>\n",
       "      <td>[[0.005925360327899036, -1.3735274885912958, 1...</td>\n",
       "      <td>[0.98, 0.9646913580246913, 0.9520987654320988,...</td>\n",
       "      <td>[0.5457683836520829, 0.6593948821393063, 0.736...</td>\n",
       "      <td>29.556786</td>\n",
       "      <td>[22.79482226098858, 13.431887599339419]</td>\n",
       "      <td>1</td>\n",
       "    </tr>\n",
       "    <tr>\n",
       "      <th>3</th>\n",
       "      <td>[[[-1.0, 0.4168, 1.0, 0.844, 1.0, 1.0, -1.0, -...</td>\n",
       "      <td>[[[0.08608979591836737, 0.1663673469387755, -0...</td>\n",
       "      <td>[[0.08162139325503141, -0.014926508464050652, ...</td>\n",
       "      <td>[-0.0254875283446712, -0.02113378684807256, -0...</td>\n",
       "      <td>[0.4820129782364334, 0.48971204363399495, 0.49...</td>\n",
       "      <td>11.868940</td>\n",
       "      <td>[15.348899714910171, 17.353851077756982]</td>\n",
       "      <td>1</td>\n",
       "    </tr>\n",
       "    <tr>\n",
       "      <th>4</th>\n",
       "      <td>[[[1.0, 1.0, 1.0, 1.0, 1.0, 1.0, 1.0, 1.0, 1.0...</td>\n",
       "      <td>[[[1.0, 1.0, 1.0, 1.0, 1.0, 1.0, 1.0, 1.0, 1.0...</td>\n",
       "      <td>[[0.0004905051469903552, -5.657957270373362, 3...</td>\n",
       "      <td>[0.9983333333333333, 0.9961111111111111, 0.997...</td>\n",
       "      <td>[0.0647255526817815, 0.12649418335551774, 0.08...</td>\n",
       "      <td>10.807099</td>\n",
       "      <td>[5.768182259627045, 8.471869545229803]</td>\n",
       "      <td>1</td>\n",
       "    </tr>\n",
       "  </tbody>\n",
       "</table>\n",
       "</div>"
      ],
      "text/plain": [
       "                                              System  \\\n",
       "0  [[[1.0, 1.0, 1.0, 1.0, 1.0, 1.0, 1.0, 1.0, 1.0...   \n",
       "1  [[[1.0, 1.0, 1.0, 1.0, 1.0, 1.0, 1.0, 1.0, 1.0...   \n",
       "2  [[[1.0, 1.0, 1.0, 1.0, 1.0, 1.0, 1.0, 1.0, 1.0...   \n",
       "3  [[[-1.0, 0.4168, 1.0, 0.844, 1.0, 1.0, -1.0, -...   \n",
       "4  [[[1.0, 1.0, 1.0, 1.0, 1.0, 1.0, 1.0, 1.0, 1.0...   \n",
       "\n",
       "                                           System_cg  \\\n",
       "0  [[[1.0, 0.9908571428571429, 0.9808897959183673...   \n",
       "1  [[[1.0, 0.9656, 1.0, 1.0, 1.0, 1.0, 1.0, 1.0, ...   \n",
       "2  [[[1.0, 1.0, 1.0, 0.8943666666666665, 1.0, 0.9...   \n",
       "3  [[[0.08608979591836737, 0.1663673469387755, -0...   \n",
       "4  [[[1.0, 1.0, 1.0, 1.0, 1.0, 1.0, 1.0, 1.0, 1.0...   \n",
       "\n",
       "                                          System_ews  \\\n",
       "0  [[0.0032392501442056534, -1.4633423495584055, ...   \n",
       "1  [[0.001980815989360143, -3.325040402232634, 12...   \n",
       "2  [[0.005925360327899036, -1.3735274885912958, 1...   \n",
       "3  [[0.08162139325503141, -0.014926508464050652, ...   \n",
       "4  [[0.0004905051469903552, -5.657957270373362, 3...   \n",
       "\n",
       "                                       Magnetization  \\\n",
       "0  [0.9914739229024944, 0.9824036281179138, 0.979...   \n",
       "1  [0.9833333333333333, 0.9783333333333334, 0.976...   \n",
       "2  [0.98, 0.9646913580246913, 0.9520987654320988,...   \n",
       "3  [-0.0254875283446712, -0.02113378684807256, -0...   \n",
       "4  [0.9983333333333333, 0.9961111111111111, 0.997...   \n",
       "\n",
       "                                       Heat_capacity         Tc  \\\n",
       "0  [0.6500765745883083, 0.7472017099776049, 0.782...   6.236788   \n",
       "1  [0.2234746991307172, 0.29548352078793944, 0.34...  11.877845   \n",
       "2  [0.5457683836520829, 0.6593948821393063, 0.736...  29.556786   \n",
       "3  [0.4820129782364334, 0.48971204363399495, 0.49...  11.868940   \n",
       "4  [0.0647255526817815, 0.12649418335551774, 0.08...  10.807099   \n",
       "\n",
       "                                    Tbounds  null  \n",
       "0      [3.98854715806314, 6.23678752898753]     0  \n",
       "1    [8.542947376439002, 5.123716451177343]     1  \n",
       "2   [22.79482226098858, 13.431887599339419]     1  \n",
       "3  [15.348899714910171, 17.353851077756982]     1  \n",
       "4    [5.768182259627045, 8.471869545229803]     1  "
      ]
     },
     "execution_count": 34,
     "metadata": {},
     "output_type": "execute_result"
    }
   ],
   "source": [
    "with open(train_data_name, 'rb') as file:\n",
    "    train_data_set = pickle.load(file)\n",
    "train_data_set"
   ]
  },
  {
   "cell_type": "code",
   "execution_count": 35,
   "metadata": {},
   "outputs": [],
   "source": [
    "for i in range(len(train_data_set)):\n",
    "    sample = train_data_set.iloc[i][\"System_cg\"].shape[0]"
   ]
  },
  {
   "cell_type": "code",
   "execution_count": 36,
   "metadata": {},
   "outputs": [
    {
     "data": {
      "text/plain": [
       "tensor([[ 1.9808e-03, -3.3250e+00,  1.2754e+01,  ...,  2.0650e-02,\n",
       "         -6.5407e-03, -6.5280e-02],\n",
       "        [ 1.9841e-03, -3.3231e+00,  1.2739e+01,  ..., -2.3424e-02,\n",
       "         -2.6914e-02, -4.8282e-02],\n",
       "        [ 1.9809e-03, -3.3311e+00,  1.2799e+01,  ..., -3.7031e-02,\n",
       "         -5.4550e-02,  1.3910e-02],\n",
       "        ...,\n",
       "        [ 1.6237e-04, -8.5231e+00,  7.9190e+01,  ..., -1.2444e-02,\n",
       "         -1.1952e-02, -1.1557e-02],\n",
       "        [ 1.6193e-04, -8.5309e+00,  7.9431e+01,  ..., -1.5415e-02,\n",
       "         -1.4379e-02, -1.3462e-02],\n",
       "        [ 1.6181e-04, -8.5157e+00,  7.9131e+01,  ..., -1.4772e-02,\n",
       "         -1.2527e-02, -1.3863e-02]], dtype=torch.float64)"
      ]
     },
     "execution_count": 36,
     "metadata": {},
     "output_type": "execute_result"
    }
   ],
   "source": [
    "seq = [torch.from_numpy(run) for run in train_data_set[\"System_ews\"]]\n",
    "seq[1]"
   ]
  },
  {
   "cell_type": "code",
   "execution_count": 37,
   "metadata": {},
   "outputs": [
    {
     "data": {
      "text/plain": [
       "tensor([ 1.9809e-03, -3.3311e+00,  1.2799e+01,  4.8091e-01,  1.4451e-01,\n",
       "         3.8885e-02,  1.0321e-03, -3.1405e+00,  9.2419e+00, -3.7031e-02,\n",
       "        -5.4550e-02,  1.3910e-02], dtype=torch.float64)"
      ]
     },
     "execution_count": 37,
     "metadata": {},
     "output_type": "execute_result"
    }
   ],
   "source": [
    "seq[1][2]"
   ]
  },
  {
   "cell_type": "code",
   "execution_count": 38,
   "metadata": {},
   "outputs": [],
   "source": [
    "seq = [torch.from_numpy(run) for run in train_data_set[\"System_ews\"]]\n",
    "seq_padded = []\n",
    "max_length = 650\n",
    "for run in seq:\n",
    "    pad_amount = max_length - run.shape[0]\n",
    "    run_padded = pad(run, (0, 0, pad_amount, 0))\n",
    "    seq_padded.append(run_padded)\n",
    "    "
   ]
  },
  {
   "cell_type": "code",
   "execution_count": null,
   "metadata": {},
   "outputs": [],
   "source": [
    "def create_padding_mask(tensor_input):\n",
    "    mask = (tensor_input.sum(dim=2) != 0).float()\n",
    "    return mask"
   ]
  },
  {
   "cell_type": "code",
   "execution_count": 39,
   "metadata": {},
   "outputs": [
    {
     "name": "stdout",
     "output_type": "stream",
     "text": [
      "650\n",
      "650\n",
      "650\n",
      "650\n",
      "650\n"
     ]
    }
   ],
   "source": [
    "for run in seq_padded:\n",
    "    print(run.shape[0])"
   ]
  },
  {
   "cell_type": "code",
   "execution_count": 65,
   "metadata": {},
   "outputs": [
    {
     "name": "stdout",
     "output_type": "stream",
     "text": [
      "361\n",
      "372\n",
      "456\n",
      "385\n",
      "428\n"
     ]
    }
   ],
   "source": [
    "for i in range(len(train_data_set)):\n",
    "    print(len(train_data_set.iloc[i][\"System_ews\"]))"
   ]
  },
  {
   "cell_type": "code",
   "execution_count": 46,
   "metadata": {},
   "outputs": [],
   "source": [
    "tensor_input = torch.stack(seq_padded)"
   ]
  },
  {
   "cell_type": "code",
   "execution_count": 59,
   "metadata": {},
   "outputs": [
    {
     "data": {
      "text/plain": [
       "torch.Size([5, 650])"
      ]
     },
     "execution_count": 59,
     "metadata": {},
     "output_type": "execute_result"
    }
   ],
   "source": [
    "mask = (tensor_input.sum(dim=2) != 0).float()\n",
    "mask.shape"
   ]
  },
  {
   "cell_type": "code",
   "execution_count": 67,
   "metadata": {},
   "outputs": [
    {
     "data": {
      "text/plain": [
       "(tensor(456.), 650)"
      ]
     },
     "execution_count": 67,
     "metadata": {},
     "output_type": "execute_result"
    }
   ],
   "source": [
    "test = mask[2].sum(dim=0)\n",
    "test, len(mask[2])"
   ]
  },
  {
   "cell_type": "code",
   "execution_count": null,
   "metadata": {},
   "outputs": [],
   "source": []
  }
 ],
 "metadata": {
  "kernelspec": {
   "display_name": "base",
   "language": "python",
   "name": "python3"
  },
  "language_info": {
   "codemirror_mode": {
    "name": "ipython",
    "version": 3
   },
   "file_extension": ".py",
   "mimetype": "text/x-python",
   "name": "python",
   "nbconvert_exporter": "python",
   "pygments_lexer": "ipython3",
   "version": "3.10.13"
  }
 },
 "nbformat": 4,
 "nbformat_minor": 2
}
