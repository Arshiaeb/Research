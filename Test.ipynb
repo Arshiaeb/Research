{
 "cells": [
  {
   "cell_type": "code",
   "execution_count": 3,
   "metadata": {},
   "outputs": [],
   "source": [
    "import numpy as np\n",
    "import matplotlib.pyplot as plt\n",
    "import os\n",
    "from skimage.measure import block_reduce\n",
    "import pickle\n",
    "\n",
    "from scipy.stats import skew, kurtosis\n",
    "from sklearn.linear_model import LinearRegression\n",
    "from scipy.ndimage import gaussian_filter as gf\n",
    "\n",
    "from morans import morans"
   ]
  },
  {
   "cell_type": "code",
   "execution_count": null,
   "metadata": {},
   "outputs": [],
   "source": [
    "with open(\"Train_Data_11\",\"rb\") as file:\n",
    "    Data = pickle.load(file)"
   ]
  },
  {
   "cell_type": "code",
   "execution_count": null,
   "metadata": {},
   "outputs": [],
   "source": [
    "Data[3][\"System\"].shape,Data[3][\"System_cg\"].shape,Data[3][\"Magnetization\"].shape,Data[3][\"Heat_capacity\"].shape"
   ]
  },
  {
   "cell_type": "code",
   "execution_count": null,
   "metadata": {},
   "outputs": [],
   "source": [
    "def matrix_autocorr(s_flatten,lag):\n",
    "    sbar = np.mean(s_flatten,axis=0)\n",
    "    s_full = s_flatten - np.tile(sbar,(s_flatten.shape[0],1))\n",
    "    \n",
    "    s_0 = s_full[:s_flatten.shape[0]-lag,:]\n",
    "    s_shift = s_full[lag:s_flatten.shape[0],:]\n",
    "    \n",
    "    ac_num = np.nansum(np.multiply(s_0,s_shift),axis=0)\n",
    "    ac_denom = np.nansum(np.multiply(s_full,s_full),axis=0)\n",
    "    \n",
    "    ac = np.divide(ac_num,ac_denom)\n",
    "    \n",
    "    return ac\n",
    "\n",
    "\n",
    "def temporal_ews(s,t_roll_window):\n",
    "    s = s.reshape(s.shape[0],-1)\n",
    "    \n",
    "    t_var = np.zeros(s.shape)\n",
    "    t_skew = np.zeros(s.shape)\n",
    "    t_kurt = np.zeros(s.shape)\n",
    "    t_corr_1 = np.zeros(s.shape)\n",
    "    t_corr_2 = np.zeros(s.shape)\n",
    "    t_corr_3 = np.zeros(s.shape)\n",
    "    \n",
    "    for j in range(s.shape[0]-t_roll_window):\n",
    "        window_end = j+t_roll_window\n",
    "        s_window = s[j:window_end,:]\n",
    "        \n",
    "        t_var[window_end,:] = np.nanvar(s_window,axis=0)\n",
    "        t_skew[window_end,:] = skew(s_window,axis=0,nan_policy='omit')\n",
    "        t_kurt[window_end,:] = kurtosis(s_window,axis=0,nan_policy='omit')\n",
    "        \n",
    "        t_corr_1[window_end,:] = matrix_autocorr(s_window,1)\n",
    "        t_corr_2[window_end,:] = matrix_autocorr(s_window,2)\n",
    "        t_corr_3[window_end,:] = matrix_autocorr(s_window,3)\n",
    "\n",
    "    \n",
    "    return {'t_var':t_var,\n",
    "            't_skew':t_skew,\n",
    "            't_kurt':t_kurt,\n",
    "            't_corr_1':t_corr_1,\n",
    "            't_corr_2':t_corr_2,\n",
    "            't_corr_3':t_corr_3}\n",
    "\n",
    "\n",
    "\n",
    "def compute_ews(s,t_roll_window):\n",
    "    # s has dims [t,x,y]\n",
    "    #\n",
    "    # for gaussian filter, smooth param is sigma in [temporal,spatial] dimensions\n",
    "    #\n",
    "    # as of now filter is only applied when computing temporal EWS -> if smooth_param[1] != 0,\n",
    "    # this will need to be reimplemented to achieve desired behavior\n",
    "    \n",
    "    # Temporal EWS:\n",
    "    #t_roll_window = int(np.floor(t_roll_window_frac*s.shape[0]))\n",
    "    \n",
    "    t_ews = temporal_ews(s,t_roll_window)\n",
    "    \n",
    "   \n",
    "\n",
    "    t_var = np.nanmean(t_ews['t_var'],axis=1)\n",
    "    t_skew = np.nanmean(t_ews['t_skew'],axis=1)\n",
    "    t_kurt = np.nanmean(t_ews['t_kurt'],axis=1)\n",
    "    t_corr_1 = np.nanmean(t_ews['t_corr_1'],axis=1)\n",
    "    t_corr_2 = np.nanmean(t_ews['t_corr_2'],axis=1)\n",
    "    t_corr_3 = np.nanmean(t_ews['t_corr_3'],axis=1)\n",
    "    \n",
    "    # Spatial EWS:\n",
    "    s_flatten = s.reshape(s.shape[0],-1)\n",
    "    s_flatten = s_flatten[t_roll_window:,:]\n",
    "    \n",
    "    x_var = np.zeros(s.shape[0])\n",
    "    x_skew = np.zeros(s.shape[0])\n",
    "    x_kurt = np.zeros(s.shape[0])\n",
    "    x_corr_1 = np.zeros(s.shape[0])\n",
    "    x_corr_2 = np.zeros(s.shape[0])\n",
    "    x_corr_3 = np.zeros(s.shape[0])\n",
    "    \n",
    "    x_var[t_roll_window:] = np.nanvar(s_flatten,axis=1)\n",
    "    x_skew[t_roll_window:] = skew(s_flatten,axis=1,nan_policy='omit')\n",
    "    x_kurt[t_roll_window:] = kurtosis(s_flatten,axis=1,nan_policy='omit')\n",
    "\n",
    "    \n",
    "    x_corr_1[t_roll_window:] = morans(s[t_roll_window:,:,:],1,periodic=False)\n",
    "    x_corr_2[t_roll_window:] = morans(s[t_roll_window:,:,:],2,periodic=False)\n",
    "    x_corr_3[t_roll_window:] = morans(s[t_roll_window:,:,:],3,periodic=False)\n",
    "    \n",
    "    x = np.vstack((t_var,t_skew,t_kurt,t_corr_1,t_corr_2,t_corr_3,\n",
    "                   x_var,x_skew,x_kurt,x_corr_1,x_corr_2,x_corr_3))\n",
    "    \n",
    "    return x.T"
   ]
  },
  {
   "cell_type": "code",
   "execution_count": 5,
   "metadata": {},
   "outputs": [
    {
     "data": {
      "text/plain": [
       "array([[ 1, -1,  1],\n",
       "       [-1,  1,  1],\n",
       "       [ 1, -1, -1]])"
      ]
     },
     "execution_count": 5,
     "metadata": {},
     "output_type": "execute_result"
    }
   ],
   "source": [
    "size = (3,3)\n",
    "grid = np.random.choice([-1, 1], size)\n",
    "grid"
   ]
  },
  {
   "cell_type": "code",
   "execution_count": null,
   "metadata": {},
   "outputs": [],
   "source": []
  }
 ],
 "metadata": {
  "kernelspec": {
   "display_name": "base",
   "language": "python",
   "name": "python3"
  },
  "language_info": {
   "codemirror_mode": {
    "name": "ipython",
    "version": 3
   },
   "file_extension": ".py",
   "mimetype": "text/x-python",
   "name": "python",
   "nbconvert_exporter": "python",
   "pygments_lexer": "ipython3",
   "version": "3.10.13"
  }
 },
 "nbformat": 4,
 "nbformat_minor": 2
}
