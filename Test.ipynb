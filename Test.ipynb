{
 "cells": [
  {
   "cell_type": "code",
   "execution_count": 1,
   "metadata": {},
   "outputs": [],
   "source": [
    "import numpy as np\n",
    "import matplotlib.pyplot as plt\n",
    "import os\n",
    "from skimage.measure import block_reduce\n",
    "import pickle\n",
    "import torch\n",
    "\n",
    "from scipy.stats import skew, kurtosis\n",
    "from sklearn.linear_model import LinearRegression\n",
    "from scipy.ndimage import gaussian_filter as gf\n",
    "from torch.nn.functional import pad, one_hot\n",
    "\n"
   ]
  },
  {
   "cell_type": "code",
   "execution_count": 2,
   "metadata": {},
   "outputs": [],
   "source": [
    "input_data = [\"CMIP_ews_CMCC-CESM_Processed.pkl\",\"CMIP_ews_CSIRO-Mk3-6-0_Processed.pkl\",\"CMIP_ews_FGOALS-g2_Processed.pkl\",\"CMIP_ews_GFDL-ESM2M_Processed.pkl\"]\n",
    "data_list = []\n",
    "labels_list = []\n",
    "\n",
    "\n",
    "for name in input_data:\n",
    "    with open(name,\"rb\") as file:\n",
    "        raw_data = pickle.load(file)\n",
    "        seq = [torch.from_numpy(run).float() for run in raw_data[\"x\"]]\n",
    "        seq_padded = []\n",
    "        max_length = 600\n",
    "        for run in seq:\n",
    "            pad_amount = max_length - run.shape[0]\n",
    "            run_padded = pad(run, (0, 0, pad_amount, 0))\n",
    "            seq_padded.append(run_padded)\n",
    "\n",
    "        input_data = torch.stack(seq_padded)\n",
    "        data_list.append(input_data)\n",
    "\n",
    "        labls = [torch.tensor(label) for label in raw_data[\"null\"]]\n",
    "        labels_t = torch.stack(labls)\n",
    "        labels_oh = one_hot(labels_t).float()\n",
    "        labels_list.append(labels_oh)\n",
    "\n",
    "data = torch.concat(data_list)\n",
    "labels = torch.concat(labels_list)"
   ]
  },
  {
   "cell_type": "code",
   "execution_count": 3,
   "metadata": {},
   "outputs": [
    {
     "data": {
      "text/plain": [
       "(torch.Size([62511, 600, 12]), torch.Size([62511, 2]))"
      ]
     },
     "execution_count": 3,
     "metadata": {},
     "output_type": "execute_result"
    }
   ],
   "source": [
    "data.shape, labels.shape"
   ]
  },
  {
   "cell_type": "code",
   "execution_count": 4,
   "metadata": {},
   "outputs": [
    {
     "data": {
      "text/plain": [
       "tensor([0., 1.])"
      ]
     },
     "execution_count": 4,
     "metadata": {},
     "output_type": "execute_result"
    }
   ],
   "source": [
    "labels[100]"
   ]
  },
  {
   "cell_type": "code",
   "execution_count": null,
   "metadata": {},
   "outputs": [],
   "source": [
    "# seq_trunc = []\n",
    "# for run in seq:\n",
    "#     t = 0\n",
    "#     while torch.equal(run[t,:],torch.zeros(12)):\n",
    "#         t += 1\n",
    "#         seq_trunc.append(run[t:,:])"
   ]
  },
  {
   "cell_type": "code",
   "execution_count": 5,
   "metadata": {},
   "outputs": [],
   "source": [
    "torch.save(data,\"Test_Data\")\n",
    "torch.save(labels,\"Test_Labels\")"
   ]
  },
  {
   "cell_type": "code",
   "execution_count": null,
   "metadata": {},
   "outputs": [],
   "source": []
  }
 ],
 "metadata": {
  "kernelspec": {
   "display_name": "base",
   "language": "python",
   "name": "python3"
  },
  "language_info": {
   "codemirror_mode": {
    "name": "ipython",
    "version": 3
   },
   "file_extension": ".py",
   "mimetype": "text/x-python",
   "name": "python",
   "nbconvert_exporter": "python",
   "pygments_lexer": "ipython3",
   "version": "3.10.13"
  }
 },
 "nbformat": 4,
 "nbformat_minor": 2
}
