{
 "cells": [
  {
   "cell_type": "code",
   "execution_count": 1,
   "metadata": {},
   "outputs": [],
   "source": [
    "import numpy as np\n",
    "import matplotlib.pyplot as plt\n",
    "import os\n",
    "import pickle\n",
    "import pandas as pd\n",
    "\n",
    "import torch\n",
    "import torch.nn as nn\n",
    "import torch.optim as optim\n",
    "import pickle\n",
    "from torch.nn.functional import pad, one_hot\n",
    "\n",
    "from torch.utils.data import DataLoader\n",
    "from matplotlib import pyplot as plt\n",
    "\n",
    "import Transformer\n",
    "from Transformer import TransformerClassifier, MyDataset, create_padding_mask"
   ]
  },
  {
   "cell_type": "code",
   "execution_count": 2,
   "metadata": {},
   "outputs": [
    {
     "name": "stdout",
     "output_type": "stream",
     "text": [
      "cuda\n"
     ]
    }
   ],
   "source": [
    "device = torch.device(\"cuda\" if torch.cuda.is_available() else \"cpu\")\n",
    "print(device)"
   ]
  },
  {
   "cell_type": "markdown",
   "metadata": {},
   "source": [
    "Create DataLoader"
   ]
  },
  {
   "cell_type": "code",
   "execution_count": 3,
   "metadata": {},
   "outputs": [],
   "source": [
    "# # Import Data\n",
    "# name = \"Train_Data_m\"\n",
    "# with open(name,\"rb\") as file:\n",
    "#     raw_data = pickle.load(file)\n",
    "\n",
    "\n",
    "# # Pad Data\n",
    "# data = raw_data[\"System_EWS\"]\n",
    "# seq = [torch.from_numpy(run) for run in data]\n",
    "# #seq_trun = [torch.from_numpy(run[:,:6]).float() for run in data]\n",
    "\n",
    "# seq_padded = []\n",
    "# max_length = 650\n",
    "# for run in seq:\n",
    "#     pad_amount = max_length - run.shape[0]\n",
    "#     run_padded = pad(run, (0, 0, pad_amount, 0))\n",
    "#     seq_padded.append(run_padded)\n",
    "# input_data = torch.stack(seq_padded)\n",
    "\n",
    "# # Create one-hot labels\n",
    "# labels = [torch.tensor(label) for label in raw_data[\"null\"]]\n",
    "# labels_t = torch.stack(labels)\n",
    "# labels_oh = one_hot(labels_t)\n",
    "\n",
    "\n",
    "# dataset = MyDataset(input_data, labels_oh)\n",
    "# batch_size = 50\n",
    "# dataloader = DataLoader(dataset, batch_size=batch_size, shuffle=True)"
   ]
  },
  {
   "cell_type": "code",
   "execution_count": 4,
   "metadata": {},
   "outputs": [
    {
     "name": "stderr",
     "output_type": "stream",
     "text": [
      "C:\\Users\\ebadi\\AppData\\Local\\Temp\\ipykernel_3400\\3484752107.py:1: FutureWarning: You are using `torch.load` with `weights_only=False` (the current default value), which uses the default pickle module implicitly. It is possible to construct malicious pickle data which will execute arbitrary code during unpickling (See https://github.com/pytorch/pytorch/blob/main/SECURITY.md#untrusted-models for more details). In a future release, the default value for `weights_only` will be flipped to `True`. This limits the functions that could be executed during unpickling. Arbitrary objects will no longer be allowed to be loaded via this mode unless they are explicitly allowlisted by the user via `torch.serialization.add_safe_globals`. We recommend you start setting `weights_only=True` for any use case where you don't have full control of the loaded file. Please open an issue on GitHub for any issues related to this experimental feature.\n",
      "  train_data = torch.load(\"Train_Data\")\n",
      "C:\\Users\\ebadi\\AppData\\Local\\Temp\\ipykernel_3400\\3484752107.py:2: FutureWarning: You are using `torch.load` with `weights_only=False` (the current default value), which uses the default pickle module implicitly. It is possible to construct malicious pickle data which will execute arbitrary code during unpickling (See https://github.com/pytorch/pytorch/blob/main/SECURITY.md#untrusted-models for more details). In a future release, the default value for `weights_only` will be flipped to `True`. This limits the functions that could be executed during unpickling. Arbitrary objects will no longer be allowed to be loaded via this mode unless they are explicitly allowlisted by the user via `torch.serialization.add_safe_globals`. We recommend you start setting `weights_only=True` for any use case where you don't have full control of the loaded file. Please open an issue on GitHub for any issues related to this experimental feature.\n",
      "  train_classes = torch.load(\"Train_Classes\")\n"
     ]
    }
   ],
   "source": [
    "train_data = torch.load(\"Train_Data\")\n",
    "train_classes = torch.load(\"Train_Classes\")"
   ]
  },
  {
   "cell_type": "code",
   "execution_count": 5,
   "metadata": {},
   "outputs": [],
   "source": [
    "dataset = MyDataset(train_data, train_classes)\n",
    "batch_size = 100\n",
    "dataloader = DataLoader(dataset, batch_size=batch_size, shuffle=True)"
   ]
  },
  {
   "cell_type": "markdown",
   "metadata": {},
   "source": [
    "Initialize Model and Select Parameters"
   ]
  },
  {
   "cell_type": "code",
   "execution_count": 6,
   "metadata": {},
   "outputs": [],
   "source": [
    "dim_feedforward = 12\n",
    "input_dim = 12  # Number of features\n",
    "d_model = 32  # Transformer model dimension\n",
    "num_heads = 4   # Number of attention heads\n",
    "num_layers = 4  # Number of transformer layers\n",
    "#num_classes = 2  # Number of classes for classification\n",
    "dropout = 0.1   # Dropout rate\n",
    "\n",
    "model = TransformerClassifier(input_dim, d_model, num_heads, num_layers, dim_feedforward, dropout)\n",
    "model = model.to(device)\n",
    "optimizer = optim.Adam(model.parameters(), lr=0.001)\n",
    "criterion = nn.BCEWithLogitsLoss()"
   ]
  },
  {
   "cell_type": "markdown",
   "metadata": {},
   "source": [
    "Train Model"
   ]
  },
  {
   "cell_type": "code",
   "execution_count": 7,
   "metadata": {},
   "outputs": [
    {
     "name": "stderr",
     "output_type": "stream",
     "text": [
      "d:\\Anaconda\\envs\\x\\lib\\site-packages\\torch\\nn\\functional.py:5560: UserWarning: 1Torch was not compiled with flash attention. (Triggered internally at C:\\cb\\pytorch_1000000000000\\work\\aten\\src\\ATen\\native\\transformers\\cuda\\sdp_utils.cpp:555.)\n",
      "  attn_output = scaled_dot_product_attention(q, k, v, attn_mask, dropout_p, is_causal)\n"
     ]
    },
    {
     "name": "stdout",
     "output_type": "stream",
     "text": [
      "Loss: 0.9430294632911682\n",
      "Loss: 0.5323666930198669\n",
      "Loss: 0.49757909774780273\n",
      "Loss: 0.4750290513038635\n",
      "Loss: 0.45955604314804077\n",
      "Loss: 0.4419759213924408\n",
      "Loss: 0.4201810359954834\n",
      "Loss: 0.4461413621902466\n",
      "Loss: 0.4246748387813568\n",
      "Loss: 0.4598737359046936\n",
      "Loss: 0.4202233850955963\n",
      "Loss: 0.43348953127861023\n",
      "Loss: 0.4238339960575104\n",
      "Loss: 0.3675243556499481\n",
      "Loss: 0.3519495725631714\n",
      "Loss: 0.37498122453689575\n",
      "Loss: 0.30513995885849\n",
      "Loss: 0.25858935713768005\n",
      "Loss: 0.29189836978912354\n",
      "Loss: 0.2791365087032318\n",
      "Loss: 0.12295442074537277\n",
      "Loss: 0.2845090329647064\n",
      "Loss: 0.2143193632364273\n",
      "Loss: 0.2071993350982666\n",
      "Loss: 0.2645677924156189\n",
      "Loss: 0.20495793223381042\n",
      "Loss: 0.21654725074768066\n",
      "Loss: 0.26358386874198914\n",
      "Loss: 0.08631114661693573\n",
      "Loss: 0.19629055261611938\n",
      "Loss: 0.2605488896369934\n",
      "Loss: 0.14999835193157196\n",
      "Loss: 0.13474194705486298\n",
      "Loss: 0.17027337849140167\n",
      "Loss: 0.28051111102104187\n",
      "Loss: 0.1503436416387558\n",
      "Loss: 0.1874399185180664\n",
      "Loss: 0.1781732141971588\n",
      "Loss: 0.1740536093711853\n",
      "Loss: 0.17196761071681976\n",
      "Loss: 0.2026476263999939\n",
      "Loss: 0.15678805112838745\n",
      "Loss: 0.14154396951198578\n",
      "Loss: 0.10103992372751236\n",
      "Loss: 0.13524729013442993\n",
      "Loss: 0.052810605615377426\n",
      "Loss: 0.1874668151140213\n",
      "Loss: 0.12971735000610352\n",
      "Loss: 0.13543365895748138\n",
      "Loss: 0.16605035960674286\n",
      "Loss: 0.24375194311141968\n",
      "Loss: 0.10954383760690689\n",
      "Loss: 0.15328258275985718\n",
      "Loss: 0.1305467039346695\n",
      "Loss: 0.09571056067943573\n",
      "Loss: 0.1435968428850174\n",
      "Loss: 0.17595218122005463\n",
      "Loss: 0.08248517662286758\n",
      "Loss: 0.14130322635173798\n",
      "Loss: 0.133928120136261\n",
      "Loss: 0.08411771804094315\n",
      "Loss: 0.05088862404227257\n",
      "Loss: 0.04251566156744957\n",
      "Loss: 0.10471717268228531\n",
      "Loss: 0.0617172047495842\n",
      "Loss: 0.04296406731009483\n",
      "Loss: 0.05852334946393967\n",
      "Loss: 0.08958765864372253\n",
      "Loss: 0.062290009111166\n",
      "Loss: 0.09838710725307465\n",
      "Loss: 0.07403144985437393\n",
      "Loss: 0.08112628012895584\n",
      "Loss: 0.057929039001464844\n",
      "Loss: 0.06551732867956161\n",
      "Loss: 0.09518797695636749\n",
      "Loss: 0.023179244250059128\n",
      "Loss: 0.05968093127012253\n",
      "Loss: 0.20010535418987274\n",
      "Loss: 0.12754389643669128\n",
      "Loss: 0.09737011790275574\n",
      "Loss: 0.07868658006191254\n",
      "Loss: 0.06733854860067368\n",
      "Loss: 0.019166531041264534\n",
      "Loss: 0.017830586060881615\n",
      "Loss: 0.11654949188232422\n",
      "Loss: 0.07160703092813492\n",
      "Loss: 0.027235912159085274\n",
      "Loss: 0.05687914788722992\n",
      "Loss: 0.08566329628229141\n",
      "Loss: 0.04272015392780304\n",
      "Loss: 0.09948434680700302\n",
      "Loss: 0.03095082752406597\n",
      "Loss: 0.06670065969228745\n",
      "Loss: 0.03688402473926544\n",
      "Loss: 0.04758349806070328\n",
      "Loss: 0.01644544117152691\n",
      "Loss: 0.011610165238380432\n",
      "Loss: 0.01424567773938179\n",
      "Loss: 0.07225977629423141\n",
      "Loss: 0.048641908913850784\n"
     ]
    }
   ],
   "source": [
    "epochs = 50 # number of epochs\n",
    "\n",
    "losses = []\n",
    "\n",
    "for epoch in range(1,epochs+1):\n",
    "    i = 0\n",
    "    for batch_data, batch_labels in dataloader:\n",
    "        batch_data = batch_data.to(device)\n",
    "        batch_labels = batch_labels.to(device)\n",
    "        output = model(batch_data)\n",
    "        loss = criterion(output, batch_labels)\n",
    "        if i%10 == 0:\n",
    "            print(f\"Loss: {loss.item()}\")\n",
    "        i+= 1 \n",
    "        losses.append(loss.item())\n",
    "        optimizer.zero_grad()\n",
    "        \n",
    "        loss.backward()\n",
    "        optimizer.step()\n"
   ]
  },
  {
   "cell_type": "code",
   "execution_count": 8,
   "metadata": {},
   "outputs": [
    {
     "data": {
      "image/png": "[encoded data removed]",
      "text/plain": [
       "<Figure size 640x480 with 1 Axes>"
      ]
     },
     "metadata": {},
     "output_type": "display_data"
    }
   ],
   "source": [
    "plt.plot(losses);"
   ]
  },
  {
   "cell_type": "code",
   "execution_count": 9,
   "metadata": {},
   "outputs": [],
   "source": [
    "#torch.save(model, \"model_1700k12.pth\")"
   ]
  },
  {
   "cell_type": "markdown",
   "metadata": {},
   "source": [
    "Test Model"
   ]
  },
  {
   "cell_type": "code",
   "execution_count": 10,
   "metadata": {},
   "outputs": [],
   "source": [
    "# model2 = torch.load(\"model.pth\")\n",
    "# model2.eval()"
   ]
  },
  {
   "cell_type": "code",
   "execution_count": 11,
   "metadata": {},
   "outputs": [
    {
     "data": {
      "text/plain": [
       "TransformerClassifier(\n",
       "  (projection): Linear(in_features=12, out_features=32, bias=True)\n",
       "  (pos_encoder): PositionalEncoding(\n",
       "    (dropout): Dropout(p=0.1, inplace=False)\n",
       "  )\n",
       "  (transformer_encoder): TransformerEncoder(\n",
       "    (layers): ModuleList(\n",
       "      (0-3): 4 x TransformerEncoderLayer(\n",
       "        (self_attn): MultiheadAttention(\n",
       "          (out_proj): NonDynamicallyQuantizableLinear(in_features=32, out_features=32, bias=True)\n",
       "        )\n",
       "        (linear1): Linear(in_features=32, out_features=12, bias=True)\n",
       "        (dropout): Dropout(p=0.1, inplace=False)\n",
       "        (linear2): Linear(in_features=12, out_features=32, bias=True)\n",
       "        (norm1): LayerNorm((32,), eps=1e-05, elementwise_affine=True)\n",
       "        (norm2): LayerNorm((32,), eps=1e-05, elementwise_affine=True)\n",
       "        (dropout1): Dropout(p=0.1, inplace=False)\n",
       "        (dropout2): Dropout(p=0.1, inplace=False)\n",
       "      )\n",
       "    )\n",
       "  )\n",
       "  (classification_head): Linear(in_features=32, out_features=1, bias=True)\n",
       ")"
      ]
     },
     "execution_count": 11,
     "metadata": {},
     "output_type": "execute_result"
    }
   ],
   "source": [
    "model.eval()"
   ]
  },
  {
   "cell_type": "code",
   "execution_count": 12,
   "metadata": {},
   "outputs": [],
   "source": [
    "# with torch.no_grad():\n",
    "#     for batch_data, batch_labels in dataloader:\n",
    "#         batch_data = batch_data.to(device)\n",
    "#         batch_labels = batch_labels.to(device)\n",
    "#         output = model(batch_data)\n",
    "#         output = output.to(device)\n",
    "#         probabilities = torch.sigmoid(output)\n",
    "#         probabilities = probabilities.to(device)\n",
    "#         predictions = torch.round(probabilities)\n",
    "#         predictions = predictions.to(device)\n",
    "#         correct_predictions = (predictions == batch_labels).float()\n",
    "#         accuracy = correct_predictions.mean()\n",
    "#         print(f\"Batch Accuracy: {accuracy.item() * 100:.2f}%\")"
   ]
  },
  {
   "cell_type": "code",
   "execution_count": 14,
   "metadata": {},
   "outputs": [
    {
     "data": {
      "text/plain": [
       "tensor([[0.8976]], device='cuda:0')"
      ]
     },
     "execution_count": 14,
     "metadata": {},
     "output_type": "execute_result"
    }
   ],
   "source": [
    "result = []\n",
    "test_data = train_data.to(device)\n",
    "test_labels = train_classes.to(device)\n",
    "\n",
    "for i,sample in enumerate(test_data):\n",
    "    sample = torch.unsqueeze(sample,0)\n",
    "    #sample = sample.to(device)\n",
    "    output = model(sample)\n",
    "    probability = torch.sigmoid(output)\n",
    "    prediction = torch.round(probability)\n",
    "    result.append((prediction==test_labels[i]).float())\n",
    "\n",
    "accuracy = sum(result)/len(result)\n",
    "accuracy\n"
   ]
  },
  {
   "cell_type": "code",
   "execution_count": 15,
   "metadata": {},
   "outputs": [],
   "source": [
    "raw_test_data = torch.load(\"Test_Data\",weights_only=True).to(device)\n",
    "test_data = raw_test_data[:5000].to(device)\n",
    "raw_test_classes = torch.load(\"Test_Classes\",weights_only=True).to(device)\n",
    "test_classes = raw_test_classes[:5000].to(device)"
   ]
  },
  {
   "cell_type": "code",
   "execution_count": 18,
   "metadata": {},
   "outputs": [
    {
     "ename": "RuntimeError",
     "evalue": "to_padded_tensor: at least one constituent tensor should have non-zero numel",
     "output_type": "error",
     "traceback": [
      "\u001b[1;31m---------------------------------------------------------------------------\u001b[0m",
      "\u001b[1;31mRuntimeError\u001b[0m                              Traceback (most recent call last)",
      "Cell \u001b[1;32mIn[18], line 4\u001b[0m\n\u001b[0;32m      2\u001b[0m \u001b[38;5;28;01mfor\u001b[39;00m i,sample \u001b[38;5;129;01min\u001b[39;00m \u001b[38;5;28menumerate\u001b[39m(test_data):\n\u001b[0;32m      3\u001b[0m     sample \u001b[38;5;241m=\u001b[39m torch\u001b[38;5;241m.\u001b[39munsqueeze(sample,\u001b[38;5;241m0\u001b[39m)\n\u001b[1;32m----> 4\u001b[0m     output \u001b[38;5;241m=\u001b[39m \u001b[43mmodel\u001b[49m\u001b[43m(\u001b[49m\u001b[43msample\u001b[49m\u001b[43m)\u001b[49m\n\u001b[0;32m      5\u001b[0m     probability \u001b[38;5;241m=\u001b[39m torch\u001b[38;5;241m.\u001b[39msigmoid(output)\n\u001b[0;32m      6\u001b[0m     prediction \u001b[38;5;241m=\u001b[39m torch\u001b[38;5;241m.\u001b[39mround(probability)\n",
      "File \u001b[1;32md:\\Anaconda\\envs\\x\\lib\\site-packages\\torch\\nn\\modules\\module.py:1553\u001b[0m, in \u001b[0;36mModule._wrapped_call_impl\u001b[1;34m(self, *args, **kwargs)\u001b[0m\n\u001b[0;32m   1551\u001b[0m     \u001b[38;5;28;01mreturn\u001b[39;00m \u001b[38;5;28mself\u001b[39m\u001b[38;5;241m.\u001b[39m_compiled_call_impl(\u001b[38;5;241m*\u001b[39margs, \u001b[38;5;241m*\u001b[39m\u001b[38;5;241m*\u001b[39mkwargs)  \u001b[38;5;66;03m# type: ignore[misc]\u001b[39;00m\n\u001b[0;32m   1552\u001b[0m \u001b[38;5;28;01melse\u001b[39;00m:\n\u001b[1;32m-> 1553\u001b[0m     \u001b[38;5;28;01mreturn\u001b[39;00m \u001b[38;5;28mself\u001b[39m\u001b[38;5;241m.\u001b[39m_call_impl(\u001b[38;5;241m*\u001b[39margs, \u001b[38;5;241m*\u001b[39m\u001b[38;5;241m*\u001b[39mkwargs)\n",
      "File \u001b[1;32md:\\Anaconda\\envs\\x\\lib\\site-packages\\torch\\nn\\modules\\module.py:1562\u001b[0m, in \u001b[0;36mModule._call_impl\u001b[1;34m(self, *args, **kwargs)\u001b[0m\n\u001b[0;32m   1557\u001b[0m \u001b[38;5;66;03m# If we don't have any hooks, we want to skip the rest of the logic in\u001b[39;00m\n\u001b[0;32m   1558\u001b[0m \u001b[38;5;66;03m# this function, and just call forward.\u001b[39;00m\n\u001b[0;32m   1559\u001b[0m \u001b[38;5;28;01mif\u001b[39;00m \u001b[38;5;129;01mnot\u001b[39;00m (\u001b[38;5;28mself\u001b[39m\u001b[38;5;241m.\u001b[39m_backward_hooks \u001b[38;5;129;01mor\u001b[39;00m \u001b[38;5;28mself\u001b[39m\u001b[38;5;241m.\u001b[39m_backward_pre_hooks \u001b[38;5;129;01mor\u001b[39;00m \u001b[38;5;28mself\u001b[39m\u001b[38;5;241m.\u001b[39m_forward_hooks \u001b[38;5;129;01mor\u001b[39;00m \u001b[38;5;28mself\u001b[39m\u001b[38;5;241m.\u001b[39m_forward_pre_hooks\n\u001b[0;32m   1560\u001b[0m         \u001b[38;5;129;01mor\u001b[39;00m _global_backward_pre_hooks \u001b[38;5;129;01mor\u001b[39;00m _global_backward_hooks\n\u001b[0;32m   1561\u001b[0m         \u001b[38;5;129;01mor\u001b[39;00m _global_forward_hooks \u001b[38;5;129;01mor\u001b[39;00m _global_forward_pre_hooks):\n\u001b[1;32m-> 1562\u001b[0m     \u001b[38;5;28;01mreturn\u001b[39;00m forward_call(\u001b[38;5;241m*\u001b[39margs, \u001b[38;5;241m*\u001b[39m\u001b[38;5;241m*\u001b[39mkwargs)\n\u001b[0;32m   1564\u001b[0m \u001b[38;5;28;01mtry\u001b[39;00m:\n\u001b[0;32m   1565\u001b[0m     result \u001b[38;5;241m=\u001b[39m \u001b[38;5;28;01mNone\u001b[39;00m\n",
      "File \u001b[1;32md:\\Research Project\\Code_Arshia\\Transformer.py:60\u001b[0m, in \u001b[0;36mTransformerClassifier.forward\u001b[1;34m(self, src)\u001b[0m\n\u001b[0;32m     57\u001b[0m src \u001b[38;5;241m=\u001b[39m \u001b[38;5;28mself\u001b[39m\u001b[38;5;241m.\u001b[39mprojection(src) \u001b[38;5;241m*\u001b[39m torch\u001b[38;5;241m.\u001b[39msqrt(torch\u001b[38;5;241m.\u001b[39mtensor(\u001b[38;5;28mself\u001b[39m\u001b[38;5;241m.\u001b[39mmodel_dim, dtype\u001b[38;5;241m=\u001b[39mtorch\u001b[38;5;241m.\u001b[39mfloat32))\n\u001b[0;32m     59\u001b[0m src \u001b[38;5;241m=\u001b[39m \u001b[38;5;28mself\u001b[39m\u001b[38;5;241m.\u001b[39mpos_encoder(src)\n\u001b[1;32m---> 60\u001b[0m transformer_output \u001b[38;5;241m=\u001b[39m \u001b[38;5;28;43mself\u001b[39;49m\u001b[38;5;241;43m.\u001b[39;49m\u001b[43mtransformer_encoder\u001b[49m\u001b[43m(\u001b[49m\u001b[43msrc\u001b[49m\u001b[43m,\u001b[49m\u001b[43mis_causal\u001b[49m\u001b[43m \u001b[49m\u001b[38;5;241;43m=\u001b[39;49m\u001b[43m \u001b[49m\u001b[38;5;28;43;01mFalse\u001b[39;49;00m\u001b[43m,\u001b[49m\u001b[43m \u001b[49m\u001b[43msrc_key_padding_mask\u001b[49m\u001b[43m \u001b[49m\u001b[38;5;241;43m=\u001b[39;49m\u001b[43m \u001b[49m\u001b[43mcreate_padding_mask\u001b[49m\u001b[43m(\u001b[49m\u001b[43msrc\u001b[49m\u001b[43m)\u001b[49m\u001b[43m \u001b[49m\u001b[43m)\u001b[49m \u001b[38;5;66;03m# can add src_key_padding_mask\u001b[39;00m\n\u001b[0;32m     61\u001b[0m pooled_output \u001b[38;5;241m=\u001b[39m transformer_output\u001b[38;5;241m.\u001b[39mmean(dim\u001b[38;5;241m=\u001b[39m\u001b[38;5;241m1\u001b[39m)\n\u001b[0;32m     63\u001b[0m output \u001b[38;5;241m=\u001b[39m \u001b[38;5;28mself\u001b[39m\u001b[38;5;241m.\u001b[39mclassification_head(pooled_output)\n",
      "File \u001b[1;32md:\\Anaconda\\envs\\x\\lib\\site-packages\\torch\\nn\\modules\\module.py:1553\u001b[0m, in \u001b[0;36mModule._wrapped_call_impl\u001b[1;34m(self, *args, **kwargs)\u001b[0m\n\u001b[0;32m   1551\u001b[0m     \u001b[38;5;28;01mreturn\u001b[39;00m \u001b[38;5;28mself\u001b[39m\u001b[38;5;241m.\u001b[39m_compiled_call_impl(\u001b[38;5;241m*\u001b[39margs, \u001b[38;5;241m*\u001b[39m\u001b[38;5;241m*\u001b[39mkwargs)  \u001b[38;5;66;03m# type: ignore[misc]\u001b[39;00m\n\u001b[0;32m   1552\u001b[0m \u001b[38;5;28;01melse\u001b[39;00m:\n\u001b[1;32m-> 1553\u001b[0m     \u001b[38;5;28;01mreturn\u001b[39;00m \u001b[38;5;28mself\u001b[39m\u001b[38;5;241m.\u001b[39m_call_impl(\u001b[38;5;241m*\u001b[39margs, \u001b[38;5;241m*\u001b[39m\u001b[38;5;241m*\u001b[39mkwargs)\n",
      "File \u001b[1;32md:\\Anaconda\\envs\\x\\lib\\site-packages\\torch\\nn\\modules\\module.py:1562\u001b[0m, in \u001b[0;36mModule._call_impl\u001b[1;34m(self, *args, **kwargs)\u001b[0m\n\u001b[0;32m   1557\u001b[0m \u001b[38;5;66;03m# If we don't have any hooks, we want to skip the rest of the logic in\u001b[39;00m\n\u001b[0;32m   1558\u001b[0m \u001b[38;5;66;03m# this function, and just call forward.\u001b[39;00m\n\u001b[0;32m   1559\u001b[0m \u001b[38;5;28;01mif\u001b[39;00m \u001b[38;5;129;01mnot\u001b[39;00m (\u001b[38;5;28mself\u001b[39m\u001b[38;5;241m.\u001b[39m_backward_hooks \u001b[38;5;129;01mor\u001b[39;00m \u001b[38;5;28mself\u001b[39m\u001b[38;5;241m.\u001b[39m_backward_pre_hooks \u001b[38;5;129;01mor\u001b[39;00m \u001b[38;5;28mself\u001b[39m\u001b[38;5;241m.\u001b[39m_forward_hooks \u001b[38;5;129;01mor\u001b[39;00m \u001b[38;5;28mself\u001b[39m\u001b[38;5;241m.\u001b[39m_forward_pre_hooks\n\u001b[0;32m   1560\u001b[0m         \u001b[38;5;129;01mor\u001b[39;00m _global_backward_pre_hooks \u001b[38;5;129;01mor\u001b[39;00m _global_backward_hooks\n\u001b[0;32m   1561\u001b[0m         \u001b[38;5;129;01mor\u001b[39;00m _global_forward_hooks \u001b[38;5;129;01mor\u001b[39;00m _global_forward_pre_hooks):\n\u001b[1;32m-> 1562\u001b[0m     \u001b[38;5;28;01mreturn\u001b[39;00m forward_call(\u001b[38;5;241m*\u001b[39margs, \u001b[38;5;241m*\u001b[39m\u001b[38;5;241m*\u001b[39mkwargs)\n\u001b[0;32m   1564\u001b[0m \u001b[38;5;28;01mtry\u001b[39;00m:\n\u001b[0;32m   1565\u001b[0m     result \u001b[38;5;241m=\u001b[39m \u001b[38;5;28;01mNone\u001b[39;00m\n",
      "File \u001b[1;32md:\\Anaconda\\envs\\x\\lib\\site-packages\\torch\\nn\\modules\\transformer.py:419\u001b[0m, in \u001b[0;36mTransformerEncoder.forward\u001b[1;34m(self, src, mask, src_key_padding_mask, is_causal)\u001b[0m\n\u001b[0;32m    416\u001b[0m     output \u001b[38;5;241m=\u001b[39m mod(output, src_mask\u001b[38;5;241m=\u001b[39mmask, is_causal\u001b[38;5;241m=\u001b[39mis_causal, src_key_padding_mask\u001b[38;5;241m=\u001b[39msrc_key_padding_mask_for_layers)\n\u001b[0;32m    418\u001b[0m \u001b[38;5;28;01mif\u001b[39;00m convert_to_nested:\n\u001b[1;32m--> 419\u001b[0m     output \u001b[38;5;241m=\u001b[39m \u001b[43moutput\u001b[49m\u001b[38;5;241;43m.\u001b[39;49m\u001b[43mto_padded_tensor\u001b[49m\u001b[43m(\u001b[49m\u001b[38;5;241;43m0.\u001b[39;49m\u001b[43m,\u001b[49m\u001b[43m \u001b[49m\u001b[43msrc\u001b[49m\u001b[38;5;241;43m.\u001b[39;49m\u001b[43msize\u001b[49m\u001b[43m(\u001b[49m\u001b[43m)\u001b[49m\u001b[43m)\u001b[49m\n\u001b[0;32m    421\u001b[0m \u001b[38;5;28;01mif\u001b[39;00m \u001b[38;5;28mself\u001b[39m\u001b[38;5;241m.\u001b[39mnorm \u001b[38;5;129;01mis\u001b[39;00m \u001b[38;5;129;01mnot\u001b[39;00m \u001b[38;5;28;01mNone\u001b[39;00m:\n\u001b[0;32m    422\u001b[0m     output \u001b[38;5;241m=\u001b[39m \u001b[38;5;28mself\u001b[39m\u001b[38;5;241m.\u001b[39mnorm(output)\n",
      "\u001b[1;31mRuntimeError\u001b[0m: to_padded_tensor: at least one constituent tensor should have non-zero numel"
     ]
    }
   ],
   "source": [
    "with torch.no_grad():\n",
    "    for i,sample in enumerate(test_data):\n",
    "        sample = torch.unsqueeze(sample,0)\n",
    "        output = model(sample)\n",
    "        probability = torch.sigmoid(output)\n",
    "        prediction = torch.round(probability)\n",
    "        result.append((prediction==test_classes[i]).float())\n",
    "\n",
    "accuracy = sum(result)/len(result)\n",
    "accuracy"
   ]
  },
  {
   "cell_type": "code",
   "execution_count": null,
   "metadata": {},
   "outputs": [],
   "source": []
  }
 ],
 "metadata": {
  "kernelspec": {
   "display_name": "base",
   "language": "python",
   "name": "python3"
  },
  "language_info": {
   "codemirror_mode": {
    "name": "ipython",
    "version": 3
   },
   "file_extension": ".py",
   "mimetype": "text/x-python",
   "name": "python",
   "nbconvert_exporter": "python",
   "pygments_lexer": "ipython3",
   "version": "3.10.13"
  }
 },
 "nbformat": 4,
 "nbformat_minor": 2
}
